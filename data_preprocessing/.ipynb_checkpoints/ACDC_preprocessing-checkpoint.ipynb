{
 "cells": [
  {
   "cell_type": "code",
   "execution_count": 7,
   "id": "df4d26cd",
   "metadata": {},
   "outputs": [],
   "source": [
    "import os \n",
    "import sys\n",
    "import pandas as pd\n",
    "import configparser\n",
    "import nibabel as nib\n",
    "import numpy as np\n",
    "import matplotlib.pyplot as plt\n",
    "from glob import glob as glob\n",
    "from tqdm import tqdm\n",
    "from data_utils import *\n",
    "import re\n",
    "from pathlib import Path\n",
    "import h5py"
   ]
  },
  {
   "cell_type": "code",
   "execution_count": 23,
   "id": "e09e9d27",
   "metadata": {},
   "outputs": [],
   "source": [
    "split = 'Testing' # Training or Testing"
   ]
  },
  {
   "cell_type": "markdown",
   "id": "6689ceb4",
   "metadata": {},
   "source": [
    "### Copy the data in one folder"
   ]
  },
  {
   "cell_type": "code",
   "execution_count": 24,
   "id": "ded6196c",
   "metadata": {},
   "outputs": [
    {
     "name": "stdout",
     "output_type": "stream",
     "text": [
      "50\n"
     ]
    },
    {
     "name": "stderr",
     "output_type": "stream",
     "text": [
      "0it [00:00, ?it/s]** ERROR (nifti_image_write_hdr_img2): cannot open output file '/home/maxime.difolco/Documents/data/test/preprocessed_ACDC_testing/patient101.nii.gz'\n",
      "** ERROR (nifti_image_write_hdr_img2): cannot open output file '/home/maxime.difolco/Documents/data/test/preprocessed_ACDC_testing/patient101_gt.nii.gz'\n",
      "** ERROR (nifti_image_write_hdr_img2): cannot open output file '/home/maxime.difolco/Documents/data/test/preprocessed_ACDC_testing/patient102.nii.gz'\n",
      "** ERROR (nifti_image_write_hdr_img2): cannot open output file '/home/maxime.difolco/Documents/data/test/preprocessed_ACDC_testing/patient102_gt.nii.gz'\n",
      "** ERROR (nifti_image_write_hdr_img2): cannot open output file '/home/maxime.difolco/Documents/data/test/preprocessed_ACDC_testing/patient103.nii.gz'\n",
      "3it [00:00, 27.73it/s]** ERROR (nifti_image_write_hdr_img2): cannot open output file '/home/maxime.difolco/Documents/data/test/preprocessed_ACDC_testing/patient103_gt.nii.gz'\n",
      "** ERROR (nifti_image_write_hdr_img2): cannot open output file '/home/maxime.difolco/Documents/data/test/preprocessed_ACDC_testing/patient104.nii.gz'\n",
      "** ERROR (nifti_image_write_hdr_img2): cannot open output file '/home/maxime.difolco/Documents/data/test/preprocessed_ACDC_testing/patient104_gt.nii.gz'\n",
      "** ERROR (nifti_image_write_hdr_img2): cannot open output file '/home/maxime.difolco/Documents/data/test/preprocessed_ACDC_testing/patient105.nii.gz'\n",
      "** ERROR (nifti_image_write_hdr_img2): cannot open output file '/home/maxime.difolco/Documents/data/test/preprocessed_ACDC_testing/patient105_gt.nii.gz'\n",
      "** ERROR (nifti_image_write_hdr_img2): cannot open output file '/home/maxime.difolco/Documents/data/test/preprocessed_ACDC_testing/patient106.nii.gz'\n",
      "** ERROR (nifti_image_write_hdr_img2): cannot open output file '/home/maxime.difolco/Documents/data/test/preprocessed_ACDC_testing/patient106_gt.nii.gz'\n",
      "** ERROR (nifti_image_write_hdr_img2): cannot open output file '/home/maxime.difolco/Documents/data/test/preprocessed_ACDC_testing/patient107.nii.gz'\n",
      "** ERROR (nifti_image_write_hdr_img2): cannot open output file '/home/maxime.difolco/Documents/data/test/preprocessed_ACDC_testing/patient107_gt.nii.gz'\n",
      "7it [00:00, 32.16it/s]** ERROR (nifti_image_write_hdr_img2): cannot open output file '/home/maxime.difolco/Documents/data/test/preprocessed_ACDC_testing/patient108.nii.gz'\n",
      "** ERROR (nifti_image_write_hdr_img2): cannot open output file '/home/maxime.difolco/Documents/data/test/preprocessed_ACDC_testing/patient108_gt.nii.gz'\n",
      "** ERROR (nifti_image_write_hdr_img2): cannot open output file '/home/maxime.difolco/Documents/data/test/preprocessed_ACDC_testing/patient109.nii.gz'\n",
      "** ERROR (nifti_image_write_hdr_img2): cannot open output file '/home/maxime.difolco/Documents/data/test/preprocessed_ACDC_testing/patient109_gt.nii.gz'\n",
      "** ERROR (nifti_image_write_hdr_img2): cannot open output file '/home/maxime.difolco/Documents/data/test/preprocessed_ACDC_testing/patient110.nii.gz'\n",
      "** ERROR (nifti_image_write_hdr_img2): cannot open output file '/home/maxime.difolco/Documents/data/test/preprocessed_ACDC_testing/patient110_gt.nii.gz'\n",
      "** ERROR (nifti_image_write_hdr_img2): cannot open output file '/home/maxime.difolco/Documents/data/test/preprocessed_ACDC_testing/patient111.nii.gz'\n",
      "** ERROR (nifti_image_write_hdr_img2): cannot open output file '/home/maxime.difolco/Documents/data/test/preprocessed_ACDC_testing/patient111_gt.nii.gz'\n",
      "11it [00:00, 31.90it/s]** ERROR (nifti_image_write_hdr_img2): cannot open output file '/home/maxime.difolco/Documents/data/test/preprocessed_ACDC_testing/patient112.nii.gz'\n",
      "** ERROR (nifti_image_write_hdr_img2): cannot open output file '/home/maxime.difolco/Documents/data/test/preprocessed_ACDC_testing/patient112_gt.nii.gz'\n",
      "** ERROR (nifti_image_write_hdr_img2): cannot open output file '/home/maxime.difolco/Documents/data/test/preprocessed_ACDC_testing/patient113.nii.gz'\n",
      "** ERROR (nifti_image_write_hdr_img2): cannot open output file '/home/maxime.difolco/Documents/data/test/preprocessed_ACDC_testing/patient113_gt.nii.gz'\n",
      "** ERROR (nifti_image_write_hdr_img2): cannot open output file '/home/maxime.difolco/Documents/data/test/preprocessed_ACDC_testing/patient114.nii.gz'\n",
      "** ERROR (nifti_image_write_hdr_img2): cannot open output file '/home/maxime.difolco/Documents/data/test/preprocessed_ACDC_testing/patient114_gt.nii.gz'\n",
      "** ERROR (nifti_image_write_hdr_img2): cannot open output file '/home/maxime.difolco/Documents/data/test/preprocessed_ACDC_testing/patient115.nii.gz'\n",
      "15it [00:00, 31.41it/s]** ERROR (nifti_image_write_hdr_img2): cannot open output file '/home/maxime.difolco/Documents/data/test/preprocessed_ACDC_testing/patient115_gt.nii.gz'\n",
      "** ERROR (nifti_image_write_hdr_img2): cannot open output file '/home/maxime.difolco/Documents/data/test/preprocessed_ACDC_testing/patient116.nii.gz'\n",
      "** ERROR (nifti_image_write_hdr_img2): cannot open output file '/home/maxime.difolco/Documents/data/test/preprocessed_ACDC_testing/patient116_gt.nii.gz'\n",
      "** ERROR (nifti_image_write_hdr_img2): cannot open output file '/home/maxime.difolco/Documents/data/test/preprocessed_ACDC_testing/patient117.nii.gz'\n",
      "** ERROR (nifti_image_write_hdr_img2): cannot open output file '/home/maxime.difolco/Documents/data/test/preprocessed_ACDC_testing/patient117_gt.nii.gz'\n",
      "** ERROR (nifti_image_write_hdr_img2): cannot open output file '/home/maxime.difolco/Documents/data/test/preprocessed_ACDC_testing/patient118.nii.gz'\n",
      "** ERROR (nifti_image_write_hdr_img2): cannot open output file '/home/maxime.difolco/Documents/data/test/preprocessed_ACDC_testing/patient118_gt.nii.gz'\n",
      "** ERROR (nifti_image_write_hdr_img2): cannot open output file '/home/maxime.difolco/Documents/data/test/preprocessed_ACDC_testing/patient119.nii.gz'\n",
      "** ERROR (nifti_image_write_hdr_img2): cannot open output file '/home/maxime.difolco/Documents/data/test/preprocessed_ACDC_testing/patient119_gt.nii.gz'\n",
      "19it [00:00, 31.80it/s]** ERROR (nifti_image_write_hdr_img2): cannot open output file '/home/maxime.difolco/Documents/data/test/preprocessed_ACDC_testing/patient120.nii.gz'\n",
      "** ERROR (nifti_image_write_hdr_img2): cannot open output file '/home/maxime.difolco/Documents/data/test/preprocessed_ACDC_testing/patient120_gt.nii.gz'\n",
      "** ERROR (nifti_image_write_hdr_img2): cannot open output file '/home/maxime.difolco/Documents/data/test/preprocessed_ACDC_testing/patient121.nii.gz'\n",
      "** ERROR (nifti_image_write_hdr_img2): cannot open output file '/home/maxime.difolco/Documents/data/test/preprocessed_ACDC_testing/patient121_gt.nii.gz'\n",
      "** ERROR (nifti_image_write_hdr_img2): cannot open output file '/home/maxime.difolco/Documents/data/test/preprocessed_ACDC_testing/patient122.nii.gz'\n",
      "** ERROR (nifti_image_write_hdr_img2): cannot open output file '/home/maxime.difolco/Documents/data/test/preprocessed_ACDC_testing/patient122_gt.nii.gz'\n",
      "** ERROR (nifti_image_write_hdr_img2): cannot open output file '/home/maxime.difolco/Documents/data/test/preprocessed_ACDC_testing/patient123.nii.gz'\n",
      "** ERROR (nifti_image_write_hdr_img2): cannot open output file '/home/maxime.difolco/Documents/data/test/preprocessed_ACDC_testing/patient123_gt.nii.gz'\n",
      "** ERROR (nifti_image_write_hdr_img2): cannot open output file '/home/maxime.difolco/Documents/data/test/preprocessed_ACDC_testing/patient124.nii.gz'\n",
      "** ERROR (nifti_image_write_hdr_img2): cannot open output file '/home/maxime.difolco/Documents/data/test/preprocessed_ACDC_testing/patient124_gt.nii.gz'\n",
      "24it [00:00, 34.74it/s]** ERROR (nifti_image_write_hdr_img2): cannot open output file '/home/maxime.difolco/Documents/data/test/preprocessed_ACDC_testing/patient125.nii.gz'\n",
      "** ERROR (nifti_image_write_hdr_img2): cannot open output file '/home/maxime.difolco/Documents/data/test/preprocessed_ACDC_testing/patient125_gt.nii.gz'\n",
      "** ERROR (nifti_image_write_hdr_img2): cannot open output file '/home/maxime.difolco/Documents/data/test/preprocessed_ACDC_testing/patient126.nii.gz'\n",
      "** ERROR (nifti_image_write_hdr_img2): cannot open output file '/home/maxime.difolco/Documents/data/test/preprocessed_ACDC_testing/patient126_gt.nii.gz'\n",
      "** ERROR (nifti_image_write_hdr_img2): cannot open output file '/home/maxime.difolco/Documents/data/test/preprocessed_ACDC_testing/patient127.nii.gz'\n",
      "** ERROR (nifti_image_write_hdr_img2): cannot open output file '/home/maxime.difolco/Documents/data/test/preprocessed_ACDC_testing/patient127_gt.nii.gz'\n"
     ]
    },
    {
     "name": "stderr",
     "output_type": "stream",
     "text": [
      "** ERROR (nifti_image_write_hdr_img2): cannot open output file '/home/maxime.difolco/Documents/data/test/preprocessed_ACDC_testing/patient128.nii.gz'\n",
      "28it [00:00, 33.90it/s]** ERROR (nifti_image_write_hdr_img2): cannot open output file '/home/maxime.difolco/Documents/data/test/preprocessed_ACDC_testing/patient128_gt.nii.gz'\n",
      "** ERROR (nifti_image_write_hdr_img2): cannot open output file '/home/maxime.difolco/Documents/data/test/preprocessed_ACDC_testing/patient129.nii.gz'\n",
      "** ERROR (nifti_image_write_hdr_img2): cannot open output file '/home/maxime.difolco/Documents/data/test/preprocessed_ACDC_testing/patient129_gt.nii.gz'\n",
      "** ERROR (nifti_image_write_hdr_img2): cannot open output file '/home/maxime.difolco/Documents/data/test/preprocessed_ACDC_testing/patient130.nii.gz'\n",
      "** ERROR (nifti_image_write_hdr_img2): cannot open output file '/home/maxime.difolco/Documents/data/test/preprocessed_ACDC_testing/patient130_gt.nii.gz'\n",
      "** ERROR (nifti_image_write_hdr_img2): cannot open output file '/home/maxime.difolco/Documents/data/test/preprocessed_ACDC_testing/patient131.nii.gz'\n",
      "** ERROR (nifti_image_write_hdr_img2): cannot open output file '/home/maxime.difolco/Documents/data/test/preprocessed_ACDC_testing/patient131_gt.nii.gz'\n",
      "** ERROR (nifti_image_write_hdr_img2): cannot open output file '/home/maxime.difolco/Documents/data/test/preprocessed_ACDC_testing/patient132.nii.gz'\n",
      "** ERROR (nifti_image_write_hdr_img2): cannot open output file '/home/maxime.difolco/Documents/data/test/preprocessed_ACDC_testing/patient132_gt.nii.gz'\n",
      "32it [00:00, 32.37it/s]** ERROR (nifti_image_write_hdr_img2): cannot open output file '/home/maxime.difolco/Documents/data/test/preprocessed_ACDC_testing/patient133.nii.gz'\n",
      "** ERROR (nifti_image_write_hdr_img2): cannot open output file '/home/maxime.difolco/Documents/data/test/preprocessed_ACDC_testing/patient133_gt.nii.gz'\n",
      "** ERROR (nifti_image_write_hdr_img2): cannot open output file '/home/maxime.difolco/Documents/data/test/preprocessed_ACDC_testing/patient134.nii.gz'\n",
      "** ERROR (nifti_image_write_hdr_img2): cannot open output file '/home/maxime.difolco/Documents/data/test/preprocessed_ACDC_testing/patient134_gt.nii.gz'\n",
      "** ERROR (nifti_image_write_hdr_img2): cannot open output file '/home/maxime.difolco/Documents/data/test/preprocessed_ACDC_testing/patient135.nii.gz'\n",
      "** ERROR (nifti_image_write_hdr_img2): cannot open output file '/home/maxime.difolco/Documents/data/test/preprocessed_ACDC_testing/patient135_gt.nii.gz'\n",
      "** ERROR (nifti_image_write_hdr_img2): cannot open output file '/home/maxime.difolco/Documents/data/test/preprocessed_ACDC_testing/patient136.nii.gz'\n",
      "36it [00:01, 31.17it/s]** ERROR (nifti_image_write_hdr_img2): cannot open output file '/home/maxime.difolco/Documents/data/test/preprocessed_ACDC_testing/patient136_gt.nii.gz'\n",
      "** ERROR (nifti_image_write_hdr_img2): cannot open output file '/home/maxime.difolco/Documents/data/test/preprocessed_ACDC_testing/patient137.nii.gz'\n",
      "** ERROR (nifti_image_write_hdr_img2): cannot open output file '/home/maxime.difolco/Documents/data/test/preprocessed_ACDC_testing/patient137_gt.nii.gz'\n",
      "** ERROR (nifti_image_write_hdr_img2): cannot open output file '/home/maxime.difolco/Documents/data/test/preprocessed_ACDC_testing/patient138.nii.gz'\n",
      "** ERROR (nifti_image_write_hdr_img2): cannot open output file '/home/maxime.difolco/Documents/data/test/preprocessed_ACDC_testing/patient138_gt.nii.gz'\n",
      "** ERROR (nifti_image_write_hdr_img2): cannot open output file '/home/maxime.difolco/Documents/data/test/preprocessed_ACDC_testing/patient139.nii.gz'\n",
      "** ERROR (nifti_image_write_hdr_img2): cannot open output file '/home/maxime.difolco/Documents/data/test/preprocessed_ACDC_testing/patient139_gt.nii.gz'\n",
      "** ERROR (nifti_image_write_hdr_img2): cannot open output file '/home/maxime.difolco/Documents/data/test/preprocessed_ACDC_testing/patient140.nii.gz'\n",
      "** ERROR (nifti_image_write_hdr_img2): cannot open output file '/home/maxime.difolco/Documents/data/test/preprocessed_ACDC_testing/patient140_gt.nii.gz'\n",
      "40it [00:01, 32.36it/s]** ERROR (nifti_image_write_hdr_img2): cannot open output file '/home/maxime.difolco/Documents/data/test/preprocessed_ACDC_testing/patient141.nii.gz'\n",
      "** ERROR (nifti_image_write_hdr_img2): cannot open output file '/home/maxime.difolco/Documents/data/test/preprocessed_ACDC_testing/patient141_gt.nii.gz'\n",
      "** ERROR (nifti_image_write_hdr_img2): cannot open output file '/home/maxime.difolco/Documents/data/test/preprocessed_ACDC_testing/patient142.nii.gz'\n",
      "** ERROR (nifti_image_write_hdr_img2): cannot open output file '/home/maxime.difolco/Documents/data/test/preprocessed_ACDC_testing/patient142_gt.nii.gz'\n",
      "** ERROR (nifti_image_write_hdr_img2): cannot open output file '/home/maxime.difolco/Documents/data/test/preprocessed_ACDC_testing/patient143.nii.gz'\n",
      "** ERROR (nifti_image_write_hdr_img2): cannot open output file '/home/maxime.difolco/Documents/data/test/preprocessed_ACDC_testing/patient143_gt.nii.gz'\n",
      "** ERROR (nifti_image_write_hdr_img2): cannot open output file '/home/maxime.difolco/Documents/data/test/preprocessed_ACDC_testing/patient144.nii.gz'\n",
      "** ERROR (nifti_image_write_hdr_img2): cannot open output file '/home/maxime.difolco/Documents/data/test/preprocessed_ACDC_testing/patient144_gt.nii.gz'\n",
      "44it [00:01, 33.78it/s]** ERROR (nifti_image_write_hdr_img2): cannot open output file '/home/maxime.difolco/Documents/data/test/preprocessed_ACDC_testing/patient145.nii.gz'\n",
      "** ERROR (nifti_image_write_hdr_img2): cannot open output file '/home/maxime.difolco/Documents/data/test/preprocessed_ACDC_testing/patient145_gt.nii.gz'\n",
      "** ERROR (nifti_image_write_hdr_img2): cannot open output file '/home/maxime.difolco/Documents/data/test/preprocessed_ACDC_testing/patient146.nii.gz'\n",
      "** ERROR (nifti_image_write_hdr_img2): cannot open output file '/home/maxime.difolco/Documents/data/test/preprocessed_ACDC_testing/patient146_gt.nii.gz'\n",
      "** ERROR (nifti_image_write_hdr_img2): cannot open output file '/home/maxime.difolco/Documents/data/test/preprocessed_ACDC_testing/patient147.nii.gz'\n",
      "** ERROR (nifti_image_write_hdr_img2): cannot open output file '/home/maxime.difolco/Documents/data/test/preprocessed_ACDC_testing/patient147_gt.nii.gz'\n",
      "** ERROR (nifti_image_write_hdr_img2): cannot open output file '/home/maxime.difolco/Documents/data/test/preprocessed_ACDC_testing/patient148.nii.gz'\n",
      "** ERROR (nifti_image_write_hdr_img2): cannot open output file '/home/maxime.difolco/Documents/data/test/preprocessed_ACDC_testing/patient148_gt.nii.gz'\n",
      "48it [00:01, 32.25it/s]** ERROR (nifti_image_write_hdr_img2): cannot open output file '/home/maxime.difolco/Documents/data/test/preprocessed_ACDC_testing/patient149.nii.gz'\n",
      "** ERROR (nifti_image_write_hdr_img2): cannot open output file '/home/maxime.difolco/Documents/data/test/preprocessed_ACDC_testing/patient149_gt.nii.gz'\n",
      "** ERROR (nifti_image_write_hdr_img2): cannot open output file '/home/maxime.difolco/Documents/data/test/preprocessed_ACDC_testing/patient150.nii.gz'\n",
      "** ERROR (nifti_image_write_hdr_img2): cannot open output file '/home/maxime.difolco/Documents/data/test/preprocessed_ACDC_testing/patient150_gt.nii.gz'\n",
      "50it [00:01, 32.52it/s]\n"
     ]
    }
   ],
   "source": [
    "root_dir = f'/home/maxime.difolco/Documents/data/ACDC/ground_truth/'\n",
    "out_dir = f'/home/maxime.difolco/Documents/data/test/preprocessed_ACDC/'\n",
    "\n",
    "if split == 'Testing':\n",
    "    out_dir = out_dir[:-1] + f'_{split}/'.lower()\n",
    "    root_dir = root_dir[:-1] + f'_{split}/'.lower()\n",
    "    \n",
    "if not os.path.exists(out_dir):\n",
    "    # If not, create the folder\n",
    "    os.makedirs(out_dir)\n",
    "\n",
    "list_files_img = np.sort(glob(f'{root_dir}**/*frame0[1,4].nii.gz'))\n",
    "list_files_gt = np.sort(glob(f'{root_dir}**/*frame0[1,4]_gt.nii.gz'))\n",
    "print(len(list_files_img))\n",
    "\n",
    "for path_img, path_gt in tqdm(zip(list_files_img,list_files_gt)):\n",
    "\n",
    "    case_name = re.search('patient\\d\\d\\d', path_img).group()\n",
    "    #print(case_name)\n",
    "    img = sitk.ReadImage(path_img)\n",
    "    img_gt = sitk.ReadImage(path_gt)\n",
    "\n",
    "    ed = int(path_img[-8])\n",
    "\n",
    "    img_ed = get_slice(img, ed)\n",
    "    img_gt_ed = get_slice(img_gt, ed)\n",
    "\n",
    "    mask_img_gt = sitk.Mask(img_gt_ed,sitk.Not(img_gt_ed>1),1)\n",
    "\n",
    "    multiply = sitk.MultiplyImageFilter()\n",
    "    mask_multiplier = sitk.Cast(mask_img_gt, sitk.sitkFloat64)\n",
    "    new_img = multiply.Execute(sitk.Cast(img_ed, sitk.sitkFloat64), mask_multiplier)\n",
    "\n",
    "    r_img = resample_images(new_img, is_label=True)\n",
    "    r_gt = resample_images(img_gt_ed, is_label = True)\n",
    "\n",
    "    sitk.WriteImage(r_img, f'{out_dir}{case_name}.nii.gz')\n",
    "    sitk.WriteImage(r_gt, f'{out_dir}{case_name}_gt.nii.gz')"
   ]
  },
  {
   "cell_type": "markdown",
   "id": "53d4d348",
   "metadata": {},
   "source": [
    "### Create dataset"
   ]
  },
  {
   "cell_type": "code",
   "execution_count": 25,
   "id": "c67b77f5",
   "metadata": {},
   "outputs": [
    {
     "name": "stdout",
     "output_type": "stream",
     "text": [
      "/home/maxime.difolco/Documents/data/test/preprocessed_ACDC_testing/ /home/maxime.difolco/Documents/data/test/patch_data/testing_data.h5\n",
      "0\n"
     ]
    }
   ],
   "source": [
    "dist_dir = f'/home/maxime.difolco/Documents/data/test/preprocessed_ACDC/'\n",
    "output_file = f'/home/maxime.difolco/Documents/data/test/patch_data/data.h5'\n",
    "    \n",
    "if split == 'Testing':\n",
    "    dist_dir = dist_dir[:-1] + '_testing/'\n",
    "    path_split =  os.path.split(output_file)\n",
    "    output_file = path_split[0] + '/testing_' + path_split[1]\n",
    "\n",
    "print(dist_dir, output_file)\n",
    "pattern = r'patient\\d\\d\\d'\n",
    "\n",
    "list_files = np.sort(glob(f'{dist_dir}*[0-9].nii.gz'))\n",
    "print(len(list_files))\n",
    "\n",
    "if Path(output_file).exists():\n",
    "    os.remove(output_file)\n",
    "\n",
    "with h5py.File(output_file,'w') as ff:\n",
    "    for fi in list_files:\n",
    "        pid = re.search(pattern,fi).group()\n",
    "        data = load_array(fi)\n",
    "        \n",
    "        # Load gt\n",
    "        start = re.search(pattern,fi).start()\n",
    "        data_gt = load_array(fi[:start] + pid + '_gt.nii.gz')\n",
    "        slice_num = _get_first_slice(data_gt)\n",
    "        data = np.squeeze(data[:,:,slice_num])\n",
    "\n",
    "        data, _ = align_case(data, np.squeeze(data_gt[:,:,slice_num]), labels = {'LV':3, 'Myo':2, 'RV':1})\n",
    "\n",
    "        ff.create_dataset(f'{pid}', data=data)\n"
   ]
  },
  {
   "cell_type": "markdown",
   "id": "14cd77bc",
   "metadata": {},
   "source": [
    "### Example to access an image"
   ]
  },
  {
   "cell_type": "code",
   "execution_count": 27,
   "id": "f06f3133",
   "metadata": {},
   "outputs": [
    {
     "ename": "IndexError",
     "evalue": "list index out of range",
     "output_type": "error",
     "traceback": [
      "\u001b[0;31m---------------------------------------------------------------------------\u001b[0m",
      "\u001b[0;31mIndexError\u001b[0m                                Traceback (most recent call last)",
      "Cell \u001b[0;32mIn[27], line 4\u001b[0m\n\u001b[1;32m      2\u001b[0m ff \u001b[38;5;241m=\u001b[39m  h5py\u001b[38;5;241m.\u001b[39mFile(patch_file, \u001b[38;5;124m'\u001b[39m\u001b[38;5;124mr\u001b[39m\u001b[38;5;124m'\u001b[39m)\n\u001b[1;32m      3\u001b[0m K \u001b[38;5;241m=\u001b[39m [k \u001b[38;5;28;01mfor\u001b[39;00m k \u001b[38;5;129;01min\u001b[39;00m ff\u001b[38;5;241m.\u001b[39mkeys()]\n\u001b[0;32m----> 4\u001b[0m d \u001b[38;5;241m=\u001b[39m ff[\u001b[43mK\u001b[49m\u001b[43m[\u001b[49m\u001b[38;5;241;43m0\u001b[39;49m\u001b[43m]\u001b[49m][:]\n\u001b[1;32m      5\u001b[0m plt\u001b[38;5;241m.\u001b[39mimshow(d)\n",
      "\u001b[0;31mIndexError\u001b[0m: list index out of range"
     ]
    }
   ],
   "source": [
    "patch_file = \"/home/maxime.difolco/Documents/data/test/patch_data/testing_data.h5\"\n",
    "ff =  h5py.File(patch_file, 'r')\n",
    "K = [k for k in ff.keys()]\n",
    "d = ff[K[0]][:]\n",
    "plt.imshow(d)"
   ]
  },
  {
   "cell_type": "code",
   "execution_count": null,
   "id": "d39c32ff",
   "metadata": {},
   "outputs": [],
   "source": []
  }
 ],
 "metadata": {
  "kernelspec": {
   "display_name": "iml_py308",
   "language": "python",
   "name": "iml_py308"
  },
  "language_info": {
   "codemirror_mode": {
    "name": "ipython",
    "version": 3
   },
   "file_extension": ".py",
   "mimetype": "text/x-python",
   "name": "python",
   "nbconvert_exporter": "python",
   "pygments_lexer": "ipython3",
   "version": "3.8.12"
  }
 },
 "nbformat": 4,
 "nbformat_minor": 5
}
